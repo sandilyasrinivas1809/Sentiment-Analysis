{
 "cells": [
  {
   "cell_type": "code",
   "execution_count": 2,
   "metadata": {},
   "outputs": [],
   "source": [
    "# General\n",
    "import numpy as np\n",
    "import pandas as pd\n",
    "import nltk\n",
    "import random\n",
    "import os\n",
    "from os import path\n",
    "from PIL import Image\n",
    "\n",
    "# Visualization\n",
    "import matplotlib as mpl\n",
    "import matplotlib.pyplot as plt\n",
    "import seaborn as sns\n",
    "%matplotlib inline\n",
    "from subprocess import check_output\n",
    "from wordcloud import WordCloud, STOPWORDS\n",
    "\n",
    "# Set Plot Theme\n",
    "sns.set_palette([\n",
    "    \"#30a2da\",\n",
    "    \"#fc4f30\",\n",
    "    \"#e5ae38\",\n",
    "    \"#6d904f\",\n",
    "    \"#8b8b8b\",\n",
    "])\n",
    "# Alternate # plt.style.use('fivethirtyeight')\n",
    "\n",
    "# Pre-Processing\n",
    "import string\n",
    "from nltk.tokenize import RegexpTokenizer\n",
    "from nltk.corpus import stopwords\n",
    "import re\n",
    "from nltk.stem import PorterStemmer\n",
    "from sklearn.utils import resample\n",
    "from sklearn.utils import shuffle\n",
    "\n",
    "# Modeling\n",
    "import statsmodels.api as sm\n",
    "from nltk.sentiment.vader import SentimentIntensityAnalyzer\n",
    "from nltk.sentiment.util import *\n",
    "from nltk.util import ngrams\n",
    "from collections import Counter\n",
    "from gensim.models import word2vec\n",
    "\n",
    "# Warnings\n",
    "import warnings\n",
    "warnings.filterwarnings('ignore')"
   ]
  },
  {
   "cell_type": "code",
   "execution_count": 3,
   "metadata": {},
   "outputs": [],
   "source": [
    "# Read and Peak at Data\n",
    "df = pd.read_csv(r'C:\\Users\\User\\Documents\\Data Science\\Datasets\\womens clothing sample\\Womens Clothing E-Commerce Reviews.csv')\n",
    "df.drop(df.columns[0],inplace=True, axis=1)"
   ]
  },
  {
   "cell_type": "code",
   "execution_count": 4,
   "metadata": {},
   "outputs": [],
   "source": [
    "#df=df.sample(500)"
   ]
  },
  {
   "cell_type": "code",
   "execution_count": 5,
   "metadata": {},
   "outputs": [
    {
     "name": "stdout",
     "output_type": "stream",
     "text": [
      "Missing Values: 2966\n",
      "Dataframe Dimension: 22628 Rows, 10 Columns\n"
     ]
    }
   ],
   "source": [
    "# Delete missing observations for following variables\n",
    "for x in [\"Division Name\",\"Department Name\",\"Class Name\",\"Review Text\"]:\n",
    "    df = df[df[x].notnull()]\n",
    "\n",
    "# Extracting Missing Count and Unique Count by Column\n",
    "unique_count = []\n",
    "for x in df.columns:\n",
    "    unique_count.append([x,len(df[x].unique()),df[x].isnull().sum()])\n",
    "\n",
    "# Missing Values\n",
    "print(\"Missing Values: {}\".format(df.isnull().sum().sum()))\n",
    "\n",
    "# Data Dimensions\n",
    "print(\"Dataframe Dimension: {} Rows, {} Columns\".format(*df.shape))\n",
    "\n",
    "# Create New Variables: \n",
    "# Word Length\n",
    "df[\"Word Count\"] = df['Review Text'].str.split().apply(len)\n",
    "# Character Length\n",
    "df[\"Character Count\"] = df['Review Text'].apply(len)\n",
    "# Boolean for Positive and Negative Reviews\n",
    "df[\"Label\"] = 0\n",
    "df.loc[df.Rating >= 3,[\"Label\"]] = 1"
   ]
  },
  {
   "cell_type": "code",
   "execution_count": 6,
   "metadata": {},
   "outputs": [
    {
     "data": {
      "text/html": [
       "<div>\n",
       "<style scoped>\n",
       "    .dataframe tbody tr th:only-of-type {\n",
       "        vertical-align: middle;\n",
       "    }\n",
       "\n",
       "    .dataframe tbody tr th {\n",
       "        vertical-align: top;\n",
       "    }\n",
       "\n",
       "    .dataframe thead th {\n",
       "        text-align: right;\n",
       "    }\n",
       "</style>\n",
       "<table border=\"1\" class=\"dataframe\">\n",
       "  <thead>\n",
       "    <tr style=\"text-align: right;\">\n",
       "      <th></th>\n",
       "      <th>Title</th>\n",
       "      <th>Review Text</th>\n",
       "      <th>Rating</th>\n",
       "    </tr>\n",
       "  </thead>\n",
       "  <tbody>\n",
       "    <tr>\n",
       "      <th>14350</th>\n",
       "      <td>Love it!</td>\n",
       "      <td>I love this top. i also have it in blue! i wish it came in more colors/ prints! i would definitely buy it!</td>\n",
       "      <td>5</td>\n",
       "    </tr>\n",
       "    <tr>\n",
       "      <th>18418</th>\n",
       "      <td>NaN</td>\n",
       "      <td>Luckily i found this in the store though it is on backorder online, so if you really want it - go to/call the store. it's effortless, fun, beautiful, and nicely detailed. love this top. i'm 5'5\" and usually wear size 6, and i bought a small. really worth the price b/c you can just throw it on and look fabulous. layers well. so happy i got this.</td>\n",
       "      <td>5</td>\n",
       "    </tr>\n",
       "    <tr>\n",
       "      <th>17576</th>\n",
       "      <td>Fun swingy black dress</td>\n",
       "      <td>This is a pretty basic black dress with a swingy silhouette. the slip that comes with it is much tighter than the dress. the transparent sleeves and open-work details help it look a bit airier even though the shape is loose. the neckline has a flattering v-opening. i was able to try on a petite size at my local store (i suppose it was a returned item). the petite was still a bit long for me; it did not hit me above the knee but rather at or slightly below the knee. the dress was cute and com...</td>\n",
       "      <td>4</td>\n",
       "    </tr>\n",
       "    <tr>\n",
       "      <th>21211</th>\n",
       "      <td>Great jumper :)</td>\n",
       "      <td>Love these! i call them my work overalls because thats pretty much what they are. the pictures of course don't show it but the sides are cut all the way to the waist band at the beginning of the pant. they were very flattering and quite comfy. these are just something easy to throw on and go to work in. i ordered these in a medium and they fit me perfectly. i do wish the top area was slightly wider to accommodate larger busts.</td>\n",
       "      <td>4</td>\n",
       "    </tr>\n",
       "    <tr>\n",
       "      <th>17592</th>\n",
       "      <td>Cute and classy</td>\n",
       "      <td>Very nice polka-dot pattern. i so think it is versatile and can go with a lot of different colors. i am worn it was different colors underneath and both a skirt and jeans. it is a timeless classic!!</td>\n",
       "      <td>5</td>\n",
       "    </tr>\n",
       "    <tr>\n",
       "      <th>12284</th>\n",
       "      <td>NaN</td>\n",
       "      <td>Fit is oversized but intentional. flattering on. love the neckline. modesty might call for a tank top underneath if bending over. fabric is soft, stretchy and has a good quality heft to it.</td>\n",
       "      <td>5</td>\n",
       "    </tr>\n",
       "    <tr>\n",
       "      <th>8888</th>\n",
       "      <td>NaN</td>\n",
       "      <td>I think i wanted a skirt like this in the 1980s. with its aged denim and retro style, it looks like i've had it all that time. i couldn't zip my usual 4 but the 6 is comfortable if a bit snug, sitting right at my natural waist. it's flattering and shows off my waist with tops tucked in, something i never do with my other skirts, which all sit lower. i like how it flares a little oddly due to the horizontal seam. it's interesting and different. i will wear it in summer with sandals and it wil...</td>\n",
       "      <td>5</td>\n",
       "    </tr>\n",
       "  </tbody>\n",
       "</table>\n",
       "</div>"
      ],
      "text/plain": [
       "                        Title  \\\n",
       "14350                Love it!   \n",
       "18418                     NaN   \n",
       "17576  Fun swingy black dress   \n",
       "21211         Great jumper :)   \n",
       "17592         Cute and classy   \n",
       "12284                     NaN   \n",
       "8888                      NaN   \n",
       "\n",
       "                                                                                                                                                                                                                                                                                                                                                                                                                                                                                                               Review Text  \\\n",
       "14350                                                                                                                                                                                                                                                                                                                                                                                                           I love this top. i also have it in blue! i wish it came in more colors/ prints! i would definitely buy it!   \n",
       "18418                                                                                                                                                           Luckily i found this in the store though it is on backorder online, so if you really want it - go to/call the store. it's effortless, fun, beautiful, and nicely detailed. love this top. i'm 5'5\" and usually wear size 6, and i bought a small. really worth the price b/c you can just throw it on and look fabulous. layers well. so happy i got this.   \n",
       "17576  This is a pretty basic black dress with a swingy silhouette. the slip that comes with it is much tighter than the dress. the transparent sleeves and open-work details help it look a bit airier even though the shape is loose. the neckline has a flattering v-opening. i was able to try on a petite size at my local store (i suppose it was a returned item). the petite was still a bit long for me; it did not hit me above the knee but rather at or slightly below the knee. the dress was cute and com...   \n",
       "21211                                                                       Love these! i call them my work overalls because thats pretty much what they are. the pictures of course don't show it but the sides are cut all the way to the waist band at the beginning of the pant. they were very flattering and quite comfy. these are just something easy to throw on and go to work in. i ordered these in a medium and they fit me perfectly. i do wish the top area was slightly wider to accommodate larger busts.   \n",
       "17592                                                                                                                                                                                                                                                                                                               Very nice polka-dot pattern. i so think it is versatile and can go with a lot of different colors. i am worn it was different colors underneath and both a skirt and jeans. it is a timeless classic!!   \n",
       "12284                                                                                                                                                                                                                                                                                                                        Fit is oversized but intentional. flattering on. love the neckline. modesty might call for a tank top underneath if bending over. fabric is soft, stretchy and has a good quality heft to it.   \n",
       "8888   I think i wanted a skirt like this in the 1980s. with its aged denim and retro style, it looks like i've had it all that time. i couldn't zip my usual 4 but the 6 is comfortable if a bit snug, sitting right at my natural waist. it's flattering and shows off my waist with tops tucked in, something i never do with my other skirts, which all sit lower. i like how it flares a little oddly due to the horizontal seam. it's interesting and different. i will wear it in summer with sandals and it wil...   \n",
       "\n",
       "       Rating  \n",
       "14350       5  \n",
       "18418       5  \n",
       "17576       4  \n",
       "21211       4  \n",
       "17592       5  \n",
       "12284       5  \n",
       "8888        5  "
      ]
     },
     "execution_count": 6,
     "metadata": {},
     "output_type": "execute_result"
    }
   ],
   "source": [
    "pd.set_option('max_colwidth', 500)\n",
    "df[[\"Title\",\"Review Text\", \"Rating\"]].sample(7)"
   ]
  },
  {
   "cell_type": "code",
   "execution_count": 7,
   "metadata": {},
   "outputs": [],
   "source": [
    "from nltk.stem.lancaster import LancasterStemmer\n",
    "from nltk.stem.porter import PorterStemmer\n",
    "#ps = LancasterStemmer()\n",
    "ps = PorterStemmer()\n",
    "\n",
    "tokenizer = RegexpTokenizer(r'\\w+')\n",
    "stop_words = set(stopwords.words('english'))\n",
    "\n",
    "def preprocessing(data):\n",
    "    txt = data.str.lower().str.cat(sep=' ') #1\n",
    "    words = tokenizer.tokenize(txt) #2\n",
    "    words = [w for w in words if not w in stop_words] #3\n",
    "    #words = [ps.stem(w) for w in words] #4\n",
    "    return words"
   ]
  },
  {
   "cell_type": "code",
   "execution_count": 8,
   "metadata": {},
   "outputs": [],
   "source": [
    "# Pre-Processing\n",
    "SIA = SentimentIntensityAnalyzer()\n",
    "df[\"Review Text\"]= df[\"Review Text\"].astype(str)\n",
    "\n",
    "# Applying Model, Variable Creation\n",
    "df['Polarity Score']=df[\"Review Text\"].apply(lambda x:SIA.polarity_scores(x)['compound'])\n",
    "df['Neutral Score']=df[\"Review Text\"].apply(lambda x:SIA.polarity_scores(x)['neu'])\n",
    "df['Negative Score']=df[\"Review Text\"].apply(lambda x:SIA.polarity_scores(x)['neg'])\n",
    "df['Positive Score']=df[\"Review Text\"].apply(lambda x:SIA.polarity_scores(x)['pos'])\n",
    "\n",
    "# Threshold\n",
    "\n",
    "th=0.3\n",
    "\n",
    "\n",
    "# Converting 0 to 1 Decimal Score to a Categorical Variable\n",
    "df['Sentiment']=''\n",
    "df.loc[df['Polarity Score']>th,'Sentiment']='Positive'\n",
    "df.loc[df['Polarity Score'].between(-th, +th),'Sentiment']='Neutral'\n",
    "#df.loc[df['Polarity Score']==0.1,'Sentiment']='Neutral'\n",
    "df.loc[df['Polarity Score']<-th,'Sentiment']='Negative'"
   ]
  },
  {
   "cell_type": "code",
   "execution_count": 9,
   "metadata": {},
   "outputs": [],
   "source": [
    "df_pos=df[df[\"Sentiment\"] == 'Positive']\n",
    "df_neu=df[df[\"Sentiment\"] == 'Neutral']\n",
    "df_neg=df[df[\"Sentiment\"] == 'Negative']"
   ]
  },
  {
   "cell_type": "code",
   "execution_count": 10,
   "metadata": {},
   "outputs": [
    {
     "name": "stdout",
     "output_type": "stream",
     "text": [
      "(20259, 18)\n",
      "(1443, 18)\n",
      "(926, 18)\n"
     ]
    }
   ],
   "source": [
    "print(df_pos.shape)\n",
    "print(df_neu.shape)\n",
    "print(df_neg.shape)"
   ]
  },
  {
   "cell_type": "code",
   "execution_count": 11,
   "metadata": {},
   "outputs": [],
   "source": [
    "df_neu_upsampled = resample(df_neu, \n",
    "                                 replace=True,     # sample with replacement\n",
    "                                 n_samples= df_pos.shape[0],    # to match majority class\n",
    "                                 random_state=123) # reproducible results\n",
    "df_neg_upsampled = resample(df_neg, \n",
    "                                 replace=True,     # sample with replacement\n",
    "                                 n_samples= df_pos.shape[0],    # to match majority class\n",
    "                                 random_state=123) # reproducible results\n",
    "df = pd.concat([df_pos, df_neu_upsampled,df_neg_upsampled])"
   ]
  },
  {
   "cell_type": "code",
   "execution_count": 12,
   "metadata": {},
   "outputs": [],
   "source": [
    "df_pos=df[df[\"Sentiment\"] == 'Positive']\n",
    "df_neu=df[df[\"Sentiment\"] == 'Neutral']\n",
    "df_neg=df[df[\"Sentiment\"] == 'Negative']"
   ]
  },
  {
   "cell_type": "code",
   "execution_count": 13,
   "metadata": {},
   "outputs": [
    {
     "name": "stdout",
     "output_type": "stream",
     "text": [
      "(20259, 18)\n",
      "(20259, 18)\n",
      "(20259, 18)\n"
     ]
    }
   ],
   "source": [
    "print(df_pos.shape)\n",
    "print(df_neu.shape)\n",
    "print(df_neg.shape)"
   ]
  },
  {
   "cell_type": "code",
   "execution_count": 14,
   "metadata": {},
   "outputs": [],
   "source": [
    "df_pos=df[df[\"Sentiment\"] == 'Positive']\n",
    "df_neu=df[df[\"Sentiment\"] == 'Neutral']\n",
    "df_neg=df[df[\"Sentiment\"] == 'Negative']"
   ]
  },
  {
   "cell_type": "code",
   "execution_count": 15,
   "metadata": {},
   "outputs": [
    {
     "name": "stdout",
     "output_type": "stream",
     "text": [
      "(20259, 18)\n",
      "(20259, 18)\n",
      "(20259, 18)\n"
     ]
    }
   ],
   "source": [
    "print(df_pos.shape)\n",
    "print(df_neu.shape)\n",
    "print(df_neg.shape)"
   ]
  },
  {
   "cell_type": "code",
   "execution_count": 16,
   "metadata": {},
   "outputs": [
    {
     "name": "stdout",
     "output_type": "stream",
     "text": [
      "Number of words columns (One Hot Encoding): 14034\n"
     ]
    }
   ],
   "source": [
    "df['tokenized'] = df[\"Review Text\"].astype(str).str.lower() # Turn into lower case text\n",
    "df['tokenized'] = df.apply(lambda row: tokenizer.tokenize(row['tokenized']), axis=1) # Apply tokenize to each row\n",
    "df['tokenized'] = df['tokenized'].apply(lambda x: [w for w in x if not w in stop_words]) # Remove stopwords from each row\n",
    "df['tokenized'] = df['tokenized'].apply(lambda x: [ps.stem(w) for w in x]) # Apply stemming to each row\n",
    "all_words = nltk.FreqDist(preprocessing(df['Review Text'])) # Calculate word occurrence from whole block of text\n",
    "\n",
    "vocab_count = 200\n",
    "word_features= list(all_words.keys())[:vocab_count] # 2000 most recurring unique words\n",
    "print(\"Number of words columns (One Hot Encoding): {}\".format(len(all_words)))"
   ]
  },
  {
   "cell_type": "code",
   "execution_count": 17,
   "metadata": {},
   "outputs": [],
   "source": [
    "from sklearn.feature_extraction.text import CountVectorizer, TfidfVectorizer\n",
    "from sklearn.pipeline import FeatureUnion\n",
    "from scipy.sparse import hstack, csr_matrix\n",
    "from sklearn.model_selection import train_test_split\n",
    "from sklearn import metrics\n",
    "import scikitplot as skplt"
   ]
  },
  {
   "cell_type": "code",
   "execution_count": 18,
   "metadata": {},
   "outputs": [],
   "source": [
    "vect = TfidfVectorizer()\n",
    "vect.fit(df[\"Review Text\"])\n",
    "X = vect.transform(df[\"Review Text\"])"
   ]
  },
  {
   "cell_type": "code",
   "execution_count": 19,
   "metadata": {},
   "outputs": [],
   "source": [
    "y = df[\"Sentiment\"].copy()\n",
    "\n",
    "X_train, X_valid, y_train, y_valid = train_test_split(\n",
    "    X, y, test_size=0.20, random_state=23, stratify=y)"
   ]
  },
  {
   "cell_type": "code",
   "execution_count": 20,
   "metadata": {},
   "outputs": [
    {
     "name": "stdout",
     "output_type": "stream",
     "text": [
      "Train Set Accuracy: 0.9510705250817548\n",
      "Validation Set Accuracy: 0.9324613359657782\n"
     ]
    }
   ],
   "source": [
    "from sklearn.linear_model import LogisticRegression\n",
    "model = LogisticRegression()\n",
    "lr=model.fit(X_train, y_train)\n",
    "print(\"Train Set Accuracy: {}\".format(metrics.accuracy_score(model.predict(X_train), y_train)))\n",
    "#print(\"Train Set ROC: {}\\n\".format(metrics.roc_auc_score(model.predict(X_train), y_train)))\n",
    "\n",
    "print(\"Validation Set Accuracy: {}\".format(metrics.accuracy_score(model.predict(X_valid), y_valid)))\n",
    "#print(\"Validation Set ROC: {}\".format(metrics.roc_auc_score(model.predict(X_valid), y_valid)))"
   ]
  },
  {
   "cell_type": "code",
   "execution_count": 32,
   "metadata": {},
   "outputs": [
    {
     "name": "stdout",
     "output_type": "stream",
     "text": [
      "The predicted Sentiment is ['Positive']\n"
     ]
    }
   ],
   "source": [
    "text= vect.transform([\"nice dress\"])\n",
    "pred = lr.predict(text)\n",
    "print(\"The predicted Sentiment is\",pred)"
   ]
  },
  {
   "cell_type": "code",
   "execution_count": 186,
   "metadata": {},
   "outputs": [],
   "source": []
  },
  {
   "cell_type": "code",
   "execution_count": 188,
   "metadata": {},
   "outputs": [
    {
     "name": "stdout",
     "output_type": "stream",
     "text": [
      "The predicted Sentiment is ['Neutral']\n"
     ]
    }
   ],
   "source": []
  },
  {
   "cell_type": "code",
   "execution_count": 184,
   "metadata": {},
   "outputs": [
    {
     "data": {
      "text/plain": [
       "array(['Neutral'], dtype=object)"
      ]
     },
     "execution_count": 184,
     "metadata": {},
     "output_type": "execute_result"
    }
   ],
   "source": []
  },
  {
   "cell_type": "code",
   "execution_count": 17,
   "metadata": {},
   "outputs": [
    {
     "name": "stdout",
     "output_type": "stream",
     "text": [
      "              precision    recall  f1-score   support\n",
      "\n",
      "          No       0.56      0.78      0.65       596\n",
      "         Yes       0.96      0.91      0.94      3930\n",
      "\n",
      "    accuracy                           0.89      4526\n",
      "   macro avg       0.76      0.84      0.79      4526\n",
      "weighted avg       0.91      0.89      0.90      4526\n",
      "\n"
     ]
    }
   ],
   "source": [
    "print(metrics.classification_report(model.predict(X_valid), y_valid))"
   ]
  },
  {
   "cell_type": "code",
   "execution_count": null,
   "metadata": {},
   "outputs": [],
   "source": []
  }
 ],
 "metadata": {
  "kernelspec": {
   "display_name": "Python 3",
   "language": "python",
   "name": "python3"
  },
  "language_info": {
   "codemirror_mode": {
    "name": "ipython",
    "version": 3
   },
   "file_extension": ".py",
   "mimetype": "text/x-python",
   "name": "python",
   "nbconvert_exporter": "python",
   "pygments_lexer": "ipython3",
   "version": "3.8.5"
  }
 },
 "nbformat": 4,
 "nbformat_minor": 4
}
